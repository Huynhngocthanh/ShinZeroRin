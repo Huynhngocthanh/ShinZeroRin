{
  "nbformat": 4,
  "nbformat_minor": 0,
  "metadata": {
    "colab": {
      "name": "BT.Numpy.ipynb",
      "provenance": [],
      "collapsed_sections": [],
      "authorship_tag": "ABX9TyM3YB3pQrO6Zo6etHgG1ubY",
      "include_colab_link": true
    },
    "kernelspec": {
      "name": "python3",
      "display_name": "Python 3"
    }
  },
  "cells": [
    {
      "cell_type": "markdown",
      "metadata": {
        "id": "view-in-github",
        "colab_type": "text"
      },
      "source": [
        "<a href=\"https://colab.research.google.com/github/Huynhngocthanh/shinzerorin/blob/main/BT_Numpy.ipynb\" target=\"_parent\"><img src=\"https://colab.research.google.com/assets/colab-badge.svg\" alt=\"Open In Colab\"/></a>"
      ]
    },
    {
      "cell_type": "code",
      "metadata": {
        "id": "WlK9BlQwN91T",
        "colab": {
          "base_uri": "https://localhost:8080/"
        },
        "outputId": "9bb8b678-8fcb-4e8c-fabf-f489039ddacc"
      },
      "source": [
        "import numpy as np\r\n",
        "\r\n",
        "_A = [[1, 0, 2], [-1, 3, 2]]\r\n",
        "_B = [[3, 2, -2], [1, 2, 0]]\r\n",
        "A = np.array(_A)\r\n",
        "B = np.array(_B)\r\n",
        "\r\n",
        "print(\"Ma trận A\\n\", A)\r\n",
        "print(\"ma trận B\\n\", B)"
      ],
      "execution_count": 49,
      "outputs": [
        {
          "output_type": "stream",
          "text": [
            "Ma trận A\n",
            " [[ 1  0  2]\n",
            " [-1  3  2]]\n",
            "ma trận B\n",
            " [[ 3  2 -2]\n",
            " [ 1  2  0]]\n"
          ],
          "name": "stdout"
        }
      ]
    },
    {
      "cell_type": "code",
      "metadata": {
        "id": "5ymiuhLiS-A2"
      },
      "source": [
        "#Các phép toàn\r\n",
        "print(\"A + B =\\n\", A + B)\r\n",
        "print(\"A - B =\\n\", A - B)\r\n",
        "print(\"A * B =\\n\", A * B)"
      ],
      "execution_count": null,
      "outputs": []
    },
    {
      "cell_type": "code",
      "metadata": {
        "id": "D9AL5RROWVF-"
      },
      "source": [
        ""
      ],
      "execution_count": null,
      "outputs": []
    },
    {
      "cell_type": "code",
      "metadata": {
        "colab": {
          "base_uri": "https://localhost:8080/"
        },
        "id": "ZD86rc1EVqme",
        "outputId": "87178e7d-996c-4f84-966c-19f42f414f36"
      },
      "source": [
        "#Chuyển vị ma trận\r\n",
        "C1 = np.transpose(A)\r\n",
        "C2 = np.transpose(B)\r\n",
        "print(\"A^T =\\n\", C1)\r\n",
        "print(\"B^T =\\n\", C2)"
      ],
      "execution_count": 56,
      "outputs": [
        {
          "output_type": "stream",
          "text": [
            "A^T =\n",
            " [[ 1 -1]\n",
            " [ 0  3]\n",
            " [ 2  2]]\n",
            "B^T =\n",
            " [[ 3  1]\n",
            " [ 2  2]\n",
            " [-2  0]]\n"
          ],
          "name": "stdout"
        }
      ]
    },
    {
      "cell_type": "code",
      "metadata": {
        "id": "bZVQyDgpSnGV"
      },
      "source": [
        "#Ma trận đơn vị\r\n",
        "n = int(input(\"Ma trận đơn vị bậc: \"))\r\n",
        "dv = np.eye(n)\r\n",
        "print(dv)"
      ],
      "execution_count": null,
      "outputs": []
    }
  ]
}