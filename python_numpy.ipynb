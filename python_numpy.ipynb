{
  "nbformat": 4,
  "nbformat_minor": 0,
  "metadata": {
    "colab": {
      "name": "BT.Numpy.ipynb",
      "provenance": [],
      "collapsed_sections": [],
      "authorship_tag": "ABX9TyM3YB3pQrO6Zo6etHgG1ubY",
      "include_colab_link": true
    },
    "kernelspec": {
      "name": "python3",
      "display_name": "Python 3"
    }
  },
  "cells": [
    {
      "cell_type": "markdown",
      "metadata": {
        "id": "view-in-github",
        "colab_type": "text"
      },
      "source": [
        "<a href=\"https://colab.research.google.com/github/Huynhngocthanh/shinzerorin/blob/main/python_numpy.ipynb\" target=\"_parent\"><img src=\"https://colab.research.google.com/assets/colab-badge.svg\" alt=\"Open In Colab\"/></a>"
      ]
    },
    {
      "cell_type": "code",
      "metadata": {
        "id": "WlK9BlQwN91T",
        "colab": {
          "base_uri": "https://localhost:8080/"
        },
        "outputId": "14c35d63-68fe-4829-a6c6-efe0ca3cf4d6"
      },
      "source": [
        "import numpy as np\r\n",
        "\r\n",
        "_A = [[1, 0, 2], [-1, 3, 2]]\r\n",
        "_B = [[3, 2, -2], [1, 2, 0]]\r\n",
        "A = np.array(_A)\r\n",
        "B = np.array(_B)\r\n",
        "\r\n",
        "print(\"Ma trận A\\n\", A)\r\n",
        "print(\"ma trận B\\n\", B)"
      ],
      "execution_count": 57,
      "outputs": [
        {
          "output_type": "stream",
          "text": [
            "Ma trận A\n",
            " [[ 1  0  2]\n",
            " [-1  3  2]]\n",
            "ma trận B\n",
            " [[ 3  2 -2]\n",
            " [ 1  2  0]]\n"
          ],
          "name": "stdout"
        }
      ]
    },
    {
      "cell_type": "code",
      "metadata": {
        "colab": {
          "base_uri": "https://localhost:8080/"
        },
        "id": "5ymiuhLiS-A2",
        "outputId": "847e8792-d0cb-4ea2-dba7-bb4c4b25765e"
      },
      "source": [
        "#Các phép toàn\r\n",
        "print(\"A + B =\\n\", A + B)\r\n",
        "print(\"A - B =\\n\", A - B)\r\n",
        "print(\"A * B =\\n\", A * B)"
      ],
      "execution_count": 58,
      "outputs": [
        {
          "output_type": "stream",
          "text": [
            "A + B =\n",
            " [[4 2 0]\n",
            " [0 5 2]]\n",
            "A - B =\n",
            " [[-2 -2  4]\n",
            " [-2  1  2]]\n",
            "A * B =\n",
            " [[ 3  0 -4]\n",
            " [-1  6  0]]\n"
          ],
          "name": "stdout"
        }
      ]
    },
    {
      "cell_type": "code",
      "metadata": {
        "id": "D9AL5RROWVF-"
      },
      "source": [
        ""
      ],
      "execution_count": null,
      "outputs": []
    },
    {
      "cell_type": "code",
      "metadata": {
        "colab": {
          "base_uri": "https://localhost:8080/"
        },
        "id": "ZD86rc1EVqme",
        "outputId": "a7bf9da2-c567-4051-fd50-a7158155c925"
      },
      "source": [
        "#Chuyển vị ma trận\r\n",
        "C1 = np.transpose(A)\r\n",
        "C2 = np.transpose(B)\r\n",
        "print(\"A^T =\\n\", C1)\r\n",
        "print(\"B^T =\\n\", C2)"
      ],
      "execution_count": 59,
      "outputs": [
        {
          "output_type": "stream",
          "text": [
            "A^T =\n",
            " [[ 1 -1]\n",
            " [ 0  3]\n",
            " [ 2  2]]\n",
            "B^T =\n",
            " [[ 3  1]\n",
            " [ 2  2]\n",
            " [-2  0]]\n"
          ],
          "name": "stdout"
        }
      ]
    },
    {
      "cell_type": "code",
      "metadata": {
        "colab": {
          "base_uri": "https://localhost:8080/"
        },
        "id": "bZVQyDgpSnGV",
        "outputId": "39bfef34-aa6a-4581-db44-02c10d6ec14c"
      },
      "source": [
        "#Ma trận đơn vị\r\n",
        "n = int(input(\"Ma trận đơn vị bậc: \"))\r\n",
        "dv = np.eye(n)\r\n",
        "print(dv)"
      ],
      "execution_count": 60,
      "outputs": [
        {
          "output_type": "stream",
          "text": [
            "Ma trận đơn vị bậc: 4\n",
            "[[1. 0. 0. 0.]\n",
            " [0. 1. 0. 0.]\n",
            " [0. 0. 1. 0.]\n",
            " [0. 0. 0. 1.]]\n"
          ],
          "name": "stdout"
        }
      ]
    }
  ]
}